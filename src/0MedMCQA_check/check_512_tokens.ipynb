{
 "cells": [
  {
   "cell_type": "code",
   "execution_count": 1,
   "metadata": {},
   "outputs": [],
   "source": [
    "from tqdm import tqdm\n",
    "from loadDataset import load_dataset_as_dict"
   ]
  },
  {
   "cell_type": "code",
   "execution_count": 3,
   "metadata": {},
   "outputs": [
    {
     "name": "stdout",
     "output_type": "stream",
     "text": [
      "Número de instancias en train: 182822\n",
      "Instancia 0 input: <s>Chronic urethral obstruction because of urinary calculi, prostatic hyperophy, tumors, normal pregnancy, tumors, uterine prolapse or functional disorders cause hydronephrosis which by definition is used to describe dilatation of renal pelvis and calculus associated with progressive atrophy of the kidney due to obstruction to the outflow of urine Refer Robbins 7yh/9,1012,9/e. P950</s>Chronic urethral obstruction due to benign prismatic hyperplasia can lead to the following change in kidney parenchyma</s>Hyperplasia</s>Hyperophy</s>Atrophy</s>Dyplasia</s>\n",
      "Instancia 0 label: 3\n",
      "Número de instancias en dev: 4183\n"
     ]
    }
   ],
   "source": [
    "train_dataset = load_dataset_as_dict(\"../data/train.json\")\n",
    "print(f\"Número de instancias en train: {len(train_dataset['inputs'])}\")\n",
    "print(f\"Instancia 0 input: {train_dataset['inputs'][0]}\")\n",
    "print(f\"Instancia 0 label: {train_dataset['labels'][0]}\")\n",
    "\n",
    "dev_dataset = load_dataset_as_dict(\"../data/dev.json\")\n",
    "print(f\"Número de instancias en dev: {len(dev_dataset['inputs'])}\")"
   ]
  },
  {
   "cell_type": "markdown",
   "metadata": {},
   "source": [
    "# Tokenización"
   ]
  },
  {
   "cell_type": "code",
   "execution_count": 6,
   "metadata": {},
   "outputs": [
    {
     "name": "stderr",
     "output_type": "stream",
     "text": [
      "/Users/aingeru/anaconda3/envs/tfg/lib/python3.11/site-packages/tqdm/auto.py:21: TqdmWarning: IProgress not found. Please update jupyter and ipywidgets. See https://ipywidgets.readthedocs.io/en/stable/user_install.html\n",
      "  from .autonotebook import tqdm as notebook_tqdm\n"
     ]
    }
   ],
   "source": [
    "from transformers import AutoTokenizer"
   ]
  },
  {
   "cell_type": "markdown",
   "metadata": {},
   "source": [
    "Preparamos el tokenizador:"
   ]
  },
  {
   "cell_type": "code",
   "execution_count": 7,
   "metadata": {},
   "outputs": [
    {
     "data": {
      "text/plain": [
       "2"
      ]
     },
     "execution_count": 7,
     "metadata": {},
     "output_type": "execute_result"
    }
   ],
   "source": [
    "tokenizer = AutoTokenizer.from_pretrained(\"distilbert/distilbert-base-uncased\", use_fast=True) # TODO. Usar el modelo que debería usar, no cualquier cosa.\n",
    "\n",
    "# Indicamos cuales son los tokens especiales para que no los parta\n",
    "special_tokens_dict = {\n",
    "    'bos_token': '<s>',\n",
    "    'sep_token': '</s>',\n",
    "    'eos_token': '</s>'\n",
    "    }\n",
    "tokenizer.add_special_tokens(special_tokens_dict)"
   ]
  },
  {
   "cell_type": "code",
   "execution_count": null,
   "metadata": {},
   "outputs": [],
   "source": [
    "tokenized_and_encoded_train_dataset = tokenizer(train_dataset['inputs']) # TODO. Añadir padding y truncation\n",
    "\n",
    "tokenized_train_dataset = []\n",
    "for input in tqdm(train_dataset['inputs']):\n",
    "    tokenized_train_dataset.append(tokenizer.tokenize(input))\n",
    "\n",
    "tokenized_and_encoded_dev_dataset = tokenizer(dev_dataset['inputs']) # TODO. Añadir padding y truncation"
   ]
  },
  {
   "cell_type": "markdown",
   "metadata": {},
   "source": [
    "Comprobación de una instancia de `train`:"
   ]
  },
  {
   "cell_type": "code",
   "execution_count": 6,
   "metadata": {},
   "outputs": [
    {
     "name": "stdout",
     "output_type": "stream",
     "text": [
      "['<s>', 'chronic', 'ur', '##eth', '##ral', 'obstruction', 'because', 'of', 'ur', '##ina', '##ry', 'cal', '##cu', '##li', ',', 'pro', '##static', 'hyper', '##op', '##hy', ',', 'tumors', ',', 'normal', 'pregnancy', ',', 'tumors', ',', 'ut', '##erine', 'pro', '##la', '##pse', 'or', 'functional', 'disorders', 'cause', 'hydro', '##ne', '##ph', '##rosis', 'which', 'by', 'definition', 'is', 'used', 'to', 'describe', 'dil', '##ata', '##tion', 'of', 'renal', 'pe', '##lvis', 'and', 'calculus', 'associated', 'with', 'progressive', 'at', '##rop', '##hy', 'of', 'the', 'kidney', 'due', 'to', 'obstruction', 'to', 'the', 'out', '##flow', 'of', 'urine', 'refer', 'robbins', '7', '##y', '##h', '/', '9', ',', '101', '##2', ',', '9', '/', 'e', '.', 'p', '##9', '##50', '</s>', 'chronic', 'ur', '##eth', '##ral', 'obstruction', 'due', 'to', 'benign', 'prism', '##atic', 'hyper', '##pl', '##asia', 'can', 'lead', 'to', 'the', 'following', 'change', 'in', 'kidney', 'par', '##en', '##chy', '##ma', '</s>', 'hyper', '##pl', '##asia', '</s>', 'hyper', '##op', '##hy', '</s>', 'at', '##rop', '##hy', '</s>', 'd', '##yp', '##las', '##ia', '</s>']\n",
      "137\n",
      "[101, 30522, 11888, 24471, 11031, 7941, 27208, 2138, 1997, 24471, 3981, 2854, 10250, 10841, 3669, 1010, 4013, 16677, 23760, 7361, 10536, 1010, 21434, 1010, 3671, 10032, 1010, 21434, 1010, 21183, 24226, 4013, 2721, 29251, 2030, 8360, 10840, 3426, 18479, 2638, 8458, 29166, 2029, 2011, 6210, 2003, 2109, 2000, 6235, 29454, 6790, 3508, 1997, 25125, 21877, 28530, 1998, 19276, 3378, 2007, 6555, 2012, 18981, 10536, 1997, 1996, 14234, 2349, 2000, 27208, 2000, 1996, 2041, 12314, 1997, 17996, 6523, 18091, 1021, 2100, 2232, 1013, 1023, 1010, 7886, 2475, 1010, 1023, 1013, 1041, 1012, 1052, 2683, 12376, 30523, 11888, 24471, 11031, 7941, 27208, 2349, 2000, 28378, 26113, 12070, 23760, 24759, 15396, 2064, 2599, 2000, 1996, 2206, 2689, 1999, 14234, 11968, 2368, 11714, 2863, 30523, 23760, 24759, 15396, 30523, 23760, 7361, 10536, 30523, 2012, 18981, 10536, 30523, 1040, 22571, 8523, 2401, 30523, 102]\n",
      "139\n"
     ]
    }
   ],
   "source": [
    "print(tokenized_train_dataset[0])\n",
    "print(len(tokenized_train_dataset[0]))\n",
    "print(tokenized_and_encoded_train_dataset['input_ids'][0])\n",
    "print(len(tokenized_and_encoded_train_dataset['input_ids'][0]))"
   ]
  },
  {
   "cell_type": "markdown",
   "metadata": {},
   "source": [
    "Distribución de número de tokens por split (train y dev):"
   ]
  },
  {
   "cell_type": "code",
   "execution_count": 10,
   "metadata": {},
   "outputs": [
    {
     "name": "stderr",
     "output_type": "stream",
     "text": [
      "/var/folders/v5/7s182ng954x4phnxd5hjxg600000gn/T/ipykernel_11205/2038179205.py:1: DeprecationWarning: \n",
      "Pyarrow will become a required dependency of pandas in the next major release of pandas (pandas 3.0),\n",
      "(to allow more performant data types, such as the Arrow string type, and better interoperability with other libraries)\n",
      "but was not found to be installed on your system.\n",
      "If this would cause problems for you,\n",
      "please provide us feedback at https://github.com/pandas-dev/pandas/issues/54466\n",
      "        \n",
      "  import pandas as pd\n"
     ]
    }
   ],
   "source": [
    "import pandas as pd\n",
    "import plotly.graph_objects as go"
   ]
  },
  {
   "cell_type": "code",
   "execution_count": null,
   "metadata": {},
   "outputs": [],
   "source": [
    "df_train = pd.DataFrame({'number_of_tokens': [len(instance) for instance in tokenized_and_encoded_train_dataset['input_ids']]})\n",
    "df_dev = pd.DataFrame({'number_of_tokens': [len(instance) for instance in tokenized_and_encoded_dev_dataset['input_ids']]})\n",
    "\n",
    "# Crea el primer boxplot\n",
    "trace1 = go.Box(\n",
    "    x=df_train['number_of_tokens'],\n",
    "    name='Train',\n",
    "    boxpoints='all'\n",
    ")\n",
    "\n",
    "# Crea el segundo boxplot\n",
    "trace2 = go.Box(\n",
    "    x=df_dev['number_of_tokens'],\n",
    "    name='Dev',\n",
    "    boxpoints='all'\n",
    ")\n",
    "\n",
    "# Combina los boxplots en una sola figura\n",
    "data = [trace1, trace2]\n",
    "layout = go.Layout(title=\"Distribution of the number of tokens in the input (<s>Context</s>...)\", xaxis_title=\"Number of tokens\", yaxis_title=\"Split\", xaxis=dict(type='log', autorange=True))\n",
    "\n",
    "fig = go.Figure(data=data, layout=layout)\n",
    "fig.show()"
   ]
  },
  {
   "cell_type": "markdown",
   "metadata": {},
   "source": [
    "Comprobamos si hay alguna instancia con más de 512 tokens e imprimimos ejemplos:"
   ]
  },
  {
   "cell_type": "code",
   "execution_count": 19,
   "metadata": {},
   "outputs": [
    {
     "name": "stdout",
     "output_type": "stream",
     "text": [
      "Number of instances with more than 512 tokens (train): 5611/182822 (3.07%)\n",
      "Instance 14:\n",
      "\t Context: Urine microscopy for malignant cytology \"Painless haematuria is by far the most common symptom of bladder cancer and should be regarded as indicative of a bladder carcinoma until proven otherwise.\" Bailey & Love 25/e p1336 (24/e p1363) Cigarette smoking is the main etiological factor and accounts ,for about 50% of bladder cancers Among the given options 'urine microscopy' is the best choice for investigating a pt. with high suspicion for bladder ca. This is not a good screening test but a positive result is highly specific. The best investigation would be cystoscopy & biopsy. Investigations for bladder cancer 1. Urinary cytology - Exfoliated cells from both normal and neoplastic urothelium can be readily identified in voided urine. Examination of cytological specimens can detect the malignant cells either at the time of initial presentation or during follow-up. Cytological examination may be especially useful in screening high-risk population and assessing the response to treatment. 2. Cystourethroscopy and tumor resection - The diagnosis and initial staging of bladder cancer is made by cystoscopy and transurethral resection. 3.Imaging (IVP, CT, MRI) - Although various imaging techniques can detect bladder cancer, its presence is confirmed by cystoscopy & biopsy. - Therefore imaging modalities are used to image the upper urinary tract and, when infiltrating bladder tumors are detected to assess the depth of muscle wall infiltration and the presence of local & distant metastasis. - Intravenous urography remains one of the most common imaging tests for the evaluation of hematuria. However, intravenous pyelography is increasingly being replaced by computed tomography (CT) urography, which is more accurate, for evaluation of the entire abdominal cavity, renal parenchyma, and ureters in patients with hematuria. Bladder tumors may be recognized as pedunculated, radiolucent filling defects projecting into the lumen; nonpapillary, infiltrating tumors may result in fixation or flattening of the bladder wall. 4. Urinary tumor markers - - Several new tests have been developed in order to overcome the shocomings of urinary cytology such as the low sensitivity for low-grade superficial tumors and inter-observer variability. - Commercially available tests include, the BTA test, the BTA stat test, the BTA TRAK assay determination of urinary nuclear matrix protein (NMP22), Immunocyt and UroVysion . - These tests can detect cancer specific proteins in urine (BTA/NMP22) or augment cytology by identifying cell surface or cytogenetic markers in the nucleus. Other tests under investigation include identification of the Lewis X antigen on exfoliated urothelial cells, and the determination of telomerase activity in exfoliated cells. - These tests have been demonstrated to enhance detection of bladder cancer when used either individually or in combination with cytology. They have been used to detect both new index tumors as well as recurrent tumors. \n",
      "\t Question: A 60 yr old chronic smoker presents with painless gross hematuria of 1 day duration. Investigation of choice to know the cause of hematuria \n",
      "\t Option A: USG \n",
      "\t Option B: X-ray KUB \n",
      "\t Option C: Urine routine \n",
      "\t Option D: Urine microscopy for malignant cytology cells \n",
      "\t Correct option: 4\n",
      "Instance 63:\n",
      "\t Context: Ans. b. SuxamethoniumSuxamethonium is the drug most commonly responsible for causing malignant hyperthermia.'Drugs causing malignant hyperthermia are- succinylcholine (most common cause), halothane (MC inhalational agent), iso/des/sevo/methoxy- fluranes, lignocaine, TCA, MAO inhibitors and phenothiazines.''Thiopentone and pancuronium are protective drugs for malignant hyperthermia, as these raise the triggering threshold.''In malignant hyperthermia susceptible patients, safe anesthetics are N2O, Non-depolarizing muscle relaxants (atracurium), opiates, tranquilizers, etomidate, barbiturates (thiopentone) and propofol.'Malignant Hyperthermia* Autosomal dominant genetic disorder of skeletal muscle* Occurs in susceptible individuals due to exposure to some triggering agents, typically Suxamethonium or volatile agents, which cause an abnormal increase in intracellular calcium.* It is caused by dysregulation of excitation-contraction coupling in skeletal muscle.Triggering Agents:* Succinylcholine (most common cause)* Halothane (MC inhalational agent)* Halogenated Anesthesia:- Fluranes: Isoflurane, desflurane, sevoflurane. methoxy-flurane- Ether- Cyclopropane* Lignocaine* TCA* MAO inhibitors* PhenothiazinesClinical Features:* Rise in end tidal CO2 (1st sign)* Masseter muscle rigidity (MMR) and tachycardia are earliest sign* Hypermetabolic features, metabolic acidosis, fever, hyperthermia* Sympathetic over activity: Tachycardia, arrhythmia, unstable BP. initial hypertension* Muscle damage: Masseter muscle spasm, generalized rigidity, hyperkalemiaTretment:* Triggering agent must be stopped and hyperventilate with 100% oxygen* The mainstay of therapy is immediate administration of IV dantrolene.* Dantrolene is the only drug effective in reversing the symptoms and preventing the episode. \n",
      "\t Question: Drug causing malignant hyperthermia:(Asked twice in the exam) \n",
      "\t Option A: Cisatracurium \n",
      "\t Option B: Suxamethonium \n",
      "\t Option C: Propofol \n",
      "\t Option D: Thiopentone \n",
      "\t Correct option: 2\n",
      "Instance 122:\n",
      "\t Context: Answer is A, B, and C Second degree AV block (Type I and /or Type II) may be associated with prolonged conduction time (prolonged PR interval), Atrial rate more than ventricular rate and change in QRS complex morphology (Tipe II). Name Rhythm Rate (beats/minute) P waves (lead II) PR Interval QRS complex First-degree atrio- ventricular (AV) block Regular That of underlying sinus rhythm; both atrial and ventricular rates will be the same Sinus origin: one P wave to each QRS complex Prolonged (more than 0.20 second); remains constant Normal (0.10 second or less) Second-degree AV Atrial: regular Atrial: that of Sinus origin Varies; progressively Normal (0.10 block, Mobitz I Ventricular: irregular underlying sinus rhythm lengthens until a P wave isn't conducted second or less) Ventricular: depends on number of impulses conducted through AV node: will he less than atrial rate (P wave occurs without the QRS cmplex); a pause follows the dropped QRS complex Second-degree AV Atrial: regular Atrial: that of Sinus origin: two or Normal or Normal if block at block, Mobitz II ventricular: usually underlying sinus three P waves prolonged; remains level of bundle of regular, but may be rhythm (sometimes more) constant His; irregular if Ventricular: depends before each QRS conductions ratios vary on number of Impulses conducted through AV node; will be less than atrial rate complex bundle branches Third-degree AV block Atrial: regular Atrial: that of Sinus P waves with Varies greatly Normal if block at Ventricular: regular underlying sinus rhythm Ventricular:40 to 60 if paced by AV junction; 30 to 40 (sometimes less) if paced by ventricles; will be less than atrial rate no constant relationship to the QRS complex; P waves found hidden in QRS complexes and T waves level of AV node or bundle of His; wide if block in bundle branches No constant Relationship between P wave and QRS complex is a feature of Third degree or complete hea block. One P wave to each QRS complex is a feature of First degree block \n",
      "\t Question: Which of the following may be seen in second degree Hea block (select three options): \n",
      "\t Option A: Change in QRS complex morphology \n",
      "\t Option B: Atrial rate more than ventricular rate \n",
      "\t Option C: Prolonged conduction time \n",
      "\t Option D: All of the above \n",
      "\t Correct option: 4\n",
      "Instance 143:\n",
      "\t Context: Ans: A (Fatty streaks) Ref: Robbins Pathologic Basis of Disease, 8th edition.Explanation:Fatty streaks are the earliest lesions in atherosclerosis \" Ref: RobbinsMorphology of AtherosclerosisFatty StreaksThese are the earliest lesions in atherosclerosis.They are composed of lipid-filled foamy macrophages.Beginning as multiple minute flat yellow spots, they eventually coalesce into elongated streaks 1 cm or more in length.These lesions are not significantly raised and do not cause any flow disturbanceAortas of infants less than 1 year old can exhibit fatty streaks, and such lesions are seen in virtually all children older than 10 years, regardless of geography, race, sex, or environment.The relationship of fatty streaks to atherosclerotic plaques is uncertainThey may evolve into precursors of plaques, not all fatty streaks are destined to become advanced lesions.Atherosclerotic PlaqueThe key processes in atherosclerosis are intimal thickening and lipid accumulationAtheromatous plaques impinge on the lumen of the artery and grossly appear white to yellow: superimposed thrombus over ulcerated plaques is red-brown.Plaques vary from 0.3 to 1.5 cm in diameter but can coalesce to form larger massesAtherosclerotic lesions are patchy, on cross- section, the lesions appear \"eccentric\"Local flow disturbances (e.g., turbulence at branch points) leads to increased susceptibility to plaque formation.In descending order, the most extensively involved vessels are theLower abdominal aorta (MC)The coronary arteries (Second MC)The popliteal arteriesThe internal carotid arteriesVessels of the circle of WillisVessels of the upper extremities are usually spared, as are the mesenteric and renal arteries, except at their ostia.Atherosclerotic plaques have three principal components:Cells, including smooth muscle cells, macrophages, and T cellsECM, including collagen, elastic fibers, and proteoglycansIntracellular and extracellular lipidSuperficial fibrous cap composed of smooth muscle cells and dense collagen.Beneath and to the side of the cap (the \"shoulder\") is a more cellular area containing macrophages, T cells, and smooth muscle cells.Deep to the fibrous cap is a necrotic core, containing lipid (primarily cholesterol and cholesterol esters), debris from dead cells, foam cells (lipid-laden macrophages and smooth muscle cells), fibrin, variably organized thrombus, and other plasma proteins and cholesterolThe periphery of the lesions show neovascularization (proliferating small blood vessels;Plaques generally continue to change and progressively enlarge due to cell death and degeneration, synthesis and degradation (remodeling) of ECM, and organization of thrombus.Atheromas often undergo calcificationAtherosclerotic plaques are susceptible to the following clinically important changes* Rupture, ulceration, or erosion of the intimal surface of atheromatous plaques exposes the blood to highly thrombogenic substances and induces thrombosis.* Such thrombosis can partially or completely occlude the lumen and lead to downstream ischemia.* If the patient survives the initial thrombotic occlusion, the clot may become organized and incorporated into the growing plaque.* Hemorrhage into a plaque. Rupture of the overlying fibrous cap, or of the thin-walled vessels in the areas of neovascularization, can cause intra-plaque hemorrhage; a contained hematoma may expand the plaque or induce plaque rupture.* Atheroembolism. Plaque rupture can discharge atherosclerotic debris into the bloodstream, producing microemboli* Alienism formation. Atherosclerosis-induced pressure or ischemic atrophy of the underlying media, with loss of elastic tissue, causes weakness resulting in aneurysmal dilation and potential rupture. \n",
      "\t Question: Earliest lesion seen in atherosclerosis is: \n",
      "\t Option A: Fatty streaks \n",
      "\t Option B: Intimal thickening \n",
      "\t Option C: Fibrinoid necrosis \n",
      "\t Option D: Plaque \n",
      "\t Correct option: 1\n",
      "Instance 148:\n",
      "\t Context: Functions: Transpo Systems An essential role of biomembranes is to allow movement of all compounds necessary for the normal function of a cell across the membrane barrier. These compounds include a vast array of substances like sugars, amino acids, fatty acids, steroids, cations and anions to mention a few. These compounds must enter or leave the cells in an orderly manner for normal functioning of the cell. A. 1. Ion Channels Ion channels are transmembrane channels, pore-like structures composed of proteins. Specific channels for Na+, K+, Ca++, and Cl- have been identified. Cation conductive channels are negatively charged within the channel and have an average diameter of about 5 to 8 nm. All ion channels are basically made up of transmembrane subunits that come together to form a central pore through which ions pass selectively. All channels have gates and are controlled by opening and closing. Types of Gates Two types of gated channels. They are a. Ligand-gated channels: In this, a specific molecule binds to a receptor and opens the channel. Example: Acetylcholine receptor is present in the postsynaptic membrane. It is a complex of five subunits, having a binding site for acetylcholine. Acetylcholine released from the presynaptic region binds with the binding site of the postsynaptic region, which triggers the opening of the channel and influx of Na+. b. Voltage-gated channels: These channels open or close in response to changes in membrane potential. Some propeies of ion channels * Composed of transmembrane protein subunits. * Highly selective. * Well regulated by the presence of \"gates\". * Two main types of gates: Ligand-gated and voltage-gated. * Activities are affected by ceain drugs. * Mutations of genes encoding transmembrane proteins can cause specific diseases. 2. Ionophores Ceain microorganisms can synthesize small organic molecules, called ionophores, which function as shuttles for the movement of ions across the membrane. Structure: These ionophores contain hydrophilic centres that bind specific ions and are surrounded by peripheral hydrophobic regions. Types: Two types: (a) Mobile ion carriers: Like valinomycin (Refer uncouplers of oxidative phosphorylation). (b) Channel formers: Like gramicidin. 3. Water Channels (Aquaporins) In ceain cells, e.g. in red blood cells, and cells of the collecting ductules of the kidney, the movement of water by simple diffusion is enhanced by movements of water through water channels, composed of tetrameric transmembrane proteins called aquaporins. About five distinct types of aquaporins have been recognised. CLINICAL ASPECT Recently mutations in the gene encoding AP-2 (Aquaporin 2) protein, have been shown to be the cause of one type of nephrogenic diabetes insipidus. 4. Gap Junction Ceain cells develop specialized regions on their membranes for intercellular communications which are in close proximity. Function: They mediate and regulate the passage of ions and small molecules upto 1000 to 2000 mol wt, through a narrow hydrophilic core connecting the cytosol of adjacent cells. Structure: They are primarily composed of protein, called connexon which contains four membrane-spanning a-helices. the mitochondrial membrane also has paicularly energy coupling mechanism.Ref: MN Chatterjea Textbook of Medical Biochemistry, 8th edition \n",
      "\t Question: Which of the following is not a component of transpo system? \n",
      "\t Option A: Receptor activation \n",
      "\t Option B: Selective gate \n",
      "\t Option C: Non-selective channel \n",
      "\t Option D: Energy coupling system \n",
      "\t Correct option: 1\n",
      "Instance 188:\n",
      "\t Context: Ref:Robbins Basic Pathology (9th Edition),page no.478,479 Sarcoidosis Although sarcoidosis is considered here as an example of a restrictive lung disease, it is impoant to note that sarcoidosis is a multisystem disease of unknown etiology characterized by noncaseating granulomas in many tissues and organs. MORPHOLOGY The diagnostic histopathologic feature of sarcoidosis is the noncaseating epithelioid granuloma, irrespective of the organ involved. This is a discrete, compact collection of epithelioid cells rimmed by an outer zone of largely CD4+ T cells. The epithelioid cells are derived from macrophages and are characterized by abundant eosinophilic cytoplasm and vesicular nuclei. It is not uncommon to see intermixed multinucleate giant cells formed by fusion of macrophages. A thin layer of laminated fibroblasts is present peripheral to the granuloma; over time, these proliferate and lay down collagen that replaces the entire granuloma with a hyalinized scar. Two other microscopic features are sometimes seen in the granulomas: (1) Schaumann bodies, laminated concretions composed of calcium and proteins; and (2) asteroid bodies, stellate inclusions enclosed within giant cells. Their presence is not required for diagnosis of sarcoidosis--they also may occur in granulomas of other origins. Rarely, foci of central necrosis may be present in sarcoid granulomas, suggesting an infectious process. Caseation necrosis typical of tuberculosis is absent The lungs are involved at some stage of the disease in 90% of patients. The granulomas predominantly involve the interstitium rather than air spaces, with some tendency to localize in the connective tissue around bronchioles and pulmonary venules and in the pleura (\"lymphangitic\" distribution). The bronchoalveolar lavage fluid contains abundant CD4+ T cells. In 5% to 15% of patients, the granulomas eventually are replaced by diffuse interstitial fibrosis, resulting in a so-called honeycomb lung. Intrathoracic hilar and paratracheal lymph nodes are enlarged and calcification in 75% to 90% of patients, while a third present with peripheral lymphadenopathy. The nodes are characteristically painless and have a firm, rubbery texture. Unlike in tuberculosis, lymph nodes in sarcoidosis are \"nonmatted\" (nonadherent) and do not ulcerate. \n",
      "\t Question: Mediastinal lymph node calcification is seen in which one of the following- \n",
      "\t Option A: Metastatic neoplasm \n",
      "\t Option B: Lymphoma \n",
      "\t Option C: Sarcoidosis \n",
      "\t Option D: Bronchiectasis \n",
      "\t Correct option: 3\n",
      "Instance 198:\n",
      "\t Context: (B) PTENo\"Phosphatase and Tensin'' homolog (PTEN) - protein in humans encoded by the PTEN gene. Gene mutations promotes development of cancers.[?]Cowden's disease/Multiple Hamartoma Syndrome:-Part of PTEN hamartoma tumor syndrome-An autosomal dominant syndrome-Trichilemmomas - Numerous tumors of hair follicles in face-Multiple hamartomatous polyps in GI tract, Lipomas, Granulomas-Very high risk of breast, Follicular endometrail carcinoma & thyroid carcinomaoTreatment: Bilateral mastectomies recommended-Contraindicated are mammography & other radiation exposure of breast tissue.-Mean age at presentation <10 years-Very high risk of breast, follicular carcinoma of thyroid & Endometrial carcinomaoPTEN (phosphatase and tensin homologue) is a membrane-associated phosphatase encoded by a gene on chromosome 10q23 that is mutated in Cowden syndrome, an autosomal dominant disorder marked by frequent benign growths, such as skin appendage tumors, and an increased incidence of epithelial cancers, particularly of the breast, endometrium, and thyroid.oPTEN acts as a tumor suppressor by serving as a brake on the PI3K/AKT arm of the receptor tyrosine kinase pathway.oPTEN gene function is lost in many cancers through deletion, deleterious point mutations, or epigenetic silencing.SELECTED TUMOR SUPPRESSOR GENES & ASSOCIATED FAMILIAL SYNDROMES & CANCERS, SORTED BY CANCER HALLMARKS*Gene (Protein)Familial SyndromesAssociated CancersInhibitors of Mitogenic Signaling PathwaysAPC (Adenomatous polyposis coli protein)Familial colonic polyps and carcinomasCarcinomas of stomach, colon, pancreas; melanoma*. NF1 (Neurofibromin-1)Neurofibromatosis type 1 (neurofibromas and malignant peripheral nerve sheath tumors)Neuroblastoma, juvenile myeloid leukemia*. NF2 (Merlin)Neurofibromatosis type 2 (acoustic schwannoma and meningioma)Schwannoma, meningioma*. PTCH (Patched)Gorlin syndrome (basal cell carcinoma, medulloblastoma, several benign tumors)Basal cell carcinoma, medulloblastoma*. PTEN (Phosphatase and tension homologue)Cowden syndrome (variety of benign skin, GI, and CNS growths; breast, endometrial, and thyroid carcinoma)Diverse cancers, particularly carcinomas and lymphoid tumors*. SMAD2, SMAD4 (SMAD2, SMAD4)Juvenile polyposisFrequently mutated (along with other components of TGFb signaling pathway) in colonic & pancreatic CaInhibitors of Ceil Cycle Progression*. RB Retinoblastoma (RB) proteinFamilial retinoblastoma syndrome (retinoblastoma, osteosarcoma, other sarcomas)Retinoblastoma; osteosarcoma carcinomas of breast, colon, lung*. CDKN2A p16/INK4a & pU/ARFFamilial melanomaPancreatic, breast, and esophageal carcinoma, melanoma, certain leukemiasInhibitors of \"Pro-growth\" Programs of Metabolism and Angiogenesis*. VHL (Von Hippel Lindau (VHL) protein)Von Hippel Lindau syndrome (cerebellar hemangioblastoma, retinal angioma, renal cell carcinoma)Renal cell carcinoma*. STK11 (Liver kinase B1 (LKB1) or STK11)Peutz-Jeghers syndrome (GI polyps, GI cancers, pancreatic carcinoma and other carcinomas)Diverse carcinomas (5%-20% of cases, depending on type)*. SDHB, SDHD (Succinate dehydrogenase complex subunits B & D)Familial paraganglioma, familial pheochromocytomaParaganglioma \n",
      "\t Question: Gene involved in Cowden syndrome is \n",
      "\t Option A: P53 \n",
      "\t Option B: PTEN \n",
      "\t Option C: RB \n",
      "\t Option D: Ras \n",
      "\t Correct option: 2\n",
      "Instance 201:\n",
      "\t Context: Ans.A Anti neuronal ab (Ref: Harrison's Internal medicine 18th/Table 319-1; 17th edition, P. 2076). Autoantibodies in Systemic Lupus Erythematosus (SLE) Antibody Prevalence, % Antigen Recognized Clinical Utility Antinuclear antibodies 98 Multiple nuclear Best screening test; repeated negative tests make SLE unlikely Anti-dsDNA 70 DNA (double-stranded) High titers are SLE-specific and in some patients correlate with disease activity, Anti-Sm 25 Protein complexed to 6 species of nuclear U1 RNA Specific for SLE; no definite clinical correlations; most patients also have anti Anti-RNP 40 Protein complexed to U1 RNA Not specific for SLE; high titers associated with syndromes that have overlap blacks than whites Anti-Ro (SS-A) 30 Protein complexed to hY RNA, primarily 60 kDa and 52 kDa Not specific for SLE; associated with sicca syndrome, predisposes to subacute cutaneous with decreased risk for nephritis Anti-La (SS-B) 10 47-kDa protein complexed to hY RNA Usually associated with anti-Ro; associated with decreased risk for nephritis Antihistone 70 Histones associated with DNA (in the nucleosome, chromatin) More frequent in drug-induced lupus than in SLE Antiphospholipid 50 Phospholipids, 2 glycoproteins 1 cofactor, prothrombin Three tests available ELISAs for cardiolipin and 2G1, sensitive prothrombin Antierythrocyte 60 Erythrocyte membrane Measured as direct Coombs' test; a small proportion develops overt hemolysis Antiplatelet 30 Surface and altered cytoplasmic antigens on platelets Associated with thrombocytopenia but sensitivity and specificity are not good; Antineuronal (includes anti-glutamate receptor) 60 Neuronal and lymphocyte surface antigens In some series a positive test in CSF correlates with active CNS lupus. Antiribosomal P 20 Protein in ribosomes In some series a positive test in serum correlates with depression or psychosis Also remember: Antibody Best screening test for Antibody ANA SLE Anti-Histone Drug-induced lupus Antinuclear antibodies SLE, nonspecific Anti-dsDNA; Anti-Sm Specific for SLE Anti-sm (Nelson's Paediatric Textbook) Marker of CNS lupus Anti-DNA Level of which correlates with disease activity Anti-Ro (SS-A) SACL, neonatal lupus Anti-Ro and Anti-La ie risk of nephritis (protective against nephritis) Antiphospholipid Hematological and Fetal Loss Antiribosomal protein Depression and Psychosis Anti-basement membrane Goodpasture syndrome Anticardiolipin, lupus anticoagulant SLE, antiphospholipid syndrome Anticentromere Limited scleroderma (CREST syndrome) Anti--Scl--70 (anti--DNA topoisomerase 1) Scleroderma (diffuse) Anti--SSA, anti--SSB (anti-Ro, anti--La) Sjogren syndrome Anti--Jo--1, anti--SRP, anti--Mi--2 Polymyositis, dermatomyositis Anti--TSH receptor Graves disease Anti--U1RNP (ribonucleoprotein) Mixed connective tissue disease c-ANCA (PR3-ANCA) Granulomatosis with polyangiitis (Wegener) IgA antiendomysial, IgA anti--tissue transglutaminase Celiac disease p-ANCA (MPO--ANCA) Microscopic polyangiitis, Churg--*JStrauss syndrome Anti--ACh receptor Myasthenia gravis Rheumatoid factor (antibody, most commonly IgM, specific to IgG Fc region), anti--CCP Rheumatoid arthritis Anti--glutamate decarboxylase Type 1 diabetes mellitus Anti--desmoglein Pemphigus vulgaris Anti--hemidesmosome Bullous pemphigoid Antimicrosomal, antithyroglobulin Hashimoto thyroiditis Antimitochondria! 1*< biliary cirrhosis Anti--smooth muscle Autoimmune hepatitis ALSO KNOW: LE cells Neutrophils with LE bodies seen in SLE, RA Penicillamine drug induced Hematoxilin bodies SLE endocarditis (Libmann-Sack) 'Wire-loop' lesions SLE type IV nephritis \n",
      "\t Question: Antibodies associated with GTCS in SLE : \n",
      "\t Option A: Anti neuronal ab \n",
      "\t Option B: Anti-Ro ab \n",
      "\t Option C: Anti-Sm ab \n",
      "\t Option D: None \n",
      "\t Correct option: 1\n",
      "Instance 238:\n",
      "\t Context: Ans. is 'd' i.e., Doppler o Color doppler ultrasonography is the screening method of choice (not simple USG : option a is incorrect),o Carotid angiography is the investigation of choice for diagnosis,o MRI is the investigation of choice for demyelinating disorder, e.g. multiple sclerosis.Investigations in nervous systemo Investigation of choice for white matter disease - MRI (CT is second choice),o Investigation of choice of acoustic neuroma - GD enhanced MRIo Best investigation for all brain tumors - Contrast enhanced MRIo Investigation of choice for meningeal carcinomatosis - Contrast (gadolinium) enhanced MRI.o Investigation of choice for posterior fossa tumor - MRIo Investigation of choice for para meningeal rhabdomyosarcoma - MRIo Investigation of choice for nasopharyngeal angiofibroma - Contrast enhanced CT.o Investigation of choice for hydrocephalus in older patients and for low pressure hydrocephalus - MRI.o Investigation of choice for acute (<48hrs) subarachnoid hemorrhage (SAH) - Non-Contrast CT scan,o Investivation of choice to know the etiology of SAH - Four vessels digital substruction angiography.o Hallmark of SAH - Blood in CSF on lumbar puncture,o Investigation of choice for chronic SAH - MRI.o Primary procedure of choice for evaluating intracranial complications of acute head injury - CT scan,o Best modality for assessing fractures of the skull base, calvarium and facial bone - CT scan,o Investigation of choice for demyelinating disorders MRI.o Investigation of choice for AV malformation and aneurysm - Angiography (MRI angiography or CT angiography),o Investigation of choice for Craniospinal infection - MRIo Investigation of choice for all intrinsic spinal cord lesions; all causes of cord compression - MRI.o Procedure of choice for emergent evaluation of acute intracerebral hemorrhage - CT scan,o Investigation of choice for myelopathy - MRI.o Shape of epidural hematomas on imaging - Biconvex, hyperdense or mixed density.o Shape of acute subdural hematoma on imaging - Crescent-shaped, hyperdense or mixed density ,o Chronic subdural hematoma on imaging - Hypodense.o Most sensitive test for ischaemic stroke - Diffusion weighted (DW) MRI. \n",
      "\t Question: Carotid artery stenosis screening invivo choice is - \n",
      "\t Option A: USG \n",
      "\t Option B: CT \n",
      "\t Option C: MRI \n",
      "\t Option D: Doppler \n",
      "\t Correct option: 4\n",
      "Instance 266:\n",
      "\t Context: Ans. A: Ankylosing Spondylitis The basic pathologic lesion of ankylosing spondylitis occurs at the entheses, which are sites of attachment to bone of ligaments, tendons, and joint capsules. Enthesopathy results from inflammation, with subsequent calcification and ossification at and around the entheses. Inflammation with cellular infiltration by lymphocytes, plasma cells, and polymorphonuclear leukocytes is associated with erosion and eburnation of the subligamentous bone. The process usually stas at the sacroiliac joints. Other enthesopathic sites include the iliac crest, ischial tuberosity, greater trochanter, patella, and calcaneum. Ankylosing spondylitis/ AS/ Bechterew's disease/ Bechterew syndrome/ Marie Strumpell disease/Spondyloahritis is a chronic, painful, degenerative inflammatory ahritis primarily affecting spine and sacroiliac joints, causing eventual fusion of the spine. AS is a systemic rheumatic disease and one of the seronegative spondyloahropathies. About 90% of the patients express the HLA-B27 genotype. Men are affected more than women by a ratio in excess of 10:1. Typical signs of progressed AS are the visible formation of syndesmophytes on X-rays and abnormal bone outgrowths similar to osteophytes affecting the spine. Complete fusion results in a complete rigidity of the spine, a condition known as bamboo spine. In 40% of cases, ankylosing spondylitis is associated with iridocyclitis causing eye pain and photophobia. 4.1 AS is also associated with ulcerative colitis, Crohn's disease, psoriasis, and Reiter's disease Other complications are aoic regurgitation, Achilles tendinitis, AV node block and amyloidosis & restrictive lung disease. A clinical examination and X-ray studies of the spine, which show characteristic spinal changes and sacroiliitis, are the major diagnostic tools. The Schober's test is a useful clinical measure of flexion of the lumbar spine performed during examination. \n",
      "\t Question: Iliac crest involvement is common in which condition: March 2007 \n",
      "\t Option A: Ankylosing spondylitis \n",
      "\t Option B: Rheumatoid ahritis \n",
      "\t Option C: Reiter's syndrome \n",
      "\t Option D: Osteoahritis \n",
      "\t Correct option: 1\n",
      "Number of instances with more than 512 tokens (dev): 25/4183 (0.60%)\n"
     ]
    }
   ],
   "source": [
    "def more_than_512_tokens(tokenized_dataset):\n",
    "    number_of_more_than_512_tokens = 0\n",
    "    for instance_tokenized in tokenized_dataset['input_ids']:\n",
    "        if len(instance_tokenized) > 512:\n",
    "            number_of_more_than_512_tokens += 1\n",
    "    return number_of_more_than_512_tokens\n",
    "\n",
    "\n",
    "### TRAIN ###\n",
    "\n",
    "more_than_512_tokens_train = more_than_512_tokens(tokenized_and_encoded_train_dataset)\n",
    "print(f\"Number of instances with more than 512 tokens (train): {more_than_512_tokens_train}/{len(tokenized_and_encoded_train_dataset['input_ids'])} ({more_than_512_tokens_train/len(tokenized_and_encoded_train_dataset['input_ids'])*100:.2f}%)\")\n",
    "\n",
    "number_of_examples = 10\n",
    "for i, instance_tokenized in enumerate(tokenized_and_encoded_train_dataset['input_ids']):\n",
    "        if len(instance_tokenized) > 512:\n",
    "            instance_split = train_dataset['inputs'][i].split('</s>')\n",
    "            print(f\"Instance {i}:\\n\\t Context: {instance_split[0].replace('<s>', '')} \\n\\t Question: {instance_split[1]} \\n\\t Option A: {instance_split[2]} \\n\\t Option B: {instance_split[3]} \\n\\t Option C: {instance_split[4]} \\n\\t Option D: {instance_split[5]} \\n\\t Correct option: {train_dataset['labels'][i]}\")\n",
    "            number_of_examples -= 1\n",
    "            if number_of_examples == 0:\n",
    "                break\n",
    "\n",
    "\n",
    "### DEV ###\n",
    "\n",
    "more_than_512_tokens_dev = more_than_512_tokens(tokenized_and_encoded_dev_dataset)\n",
    "print(f\"Number of instances with more than 512 tokens (dev): {more_than_512_tokens_dev}/{len(tokenized_and_encoded_dev_dataset['input_ids'])} ({more_than_512_tokens_dev/len(tokenized_and_encoded_dev_dataset['input_ids'])*100:.2f}%)\")\n"
   ]
  },
  {
   "cell_type": "markdown",
   "metadata": {},
   "source": [
    "Boxplot de diferentes partes de los inputs:"
   ]
  },
  {
   "cell_type": "code",
   "execution_count": 8,
   "metadata": {},
   "outputs": [
    {
     "name": "stderr",
     "output_type": "stream",
     "text": [
      "100%|██████████| 182822/182822 [01:18<00:00, 2336.20it/s]"
     ]
    },
    {
     "name": "stdout",
     "output_type": "stream",
     "text": [
      "182822\n"
     ]
    },
    {
     "name": "stderr",
     "output_type": "stream",
     "text": [
      "\n"
     ]
    }
   ],
   "source": [
    "encoded_train_context = []\n",
    "encoded_train_question = []\n",
    "encoded_train_optiona = []\n",
    "encoded_train_optionb = []\n",
    "encoded_train_optionc = []\n",
    "encoded_train_optiond = []\n",
    "encoded_train_options = []\n",
    "\n",
    "for input in tqdm(train_dataset['inputs']):\n",
    "    context = input.split('</s>')[0].replace('<s>', '')\n",
    "    question = input.split('</s>')[1]\n",
    "    optiona = input.split('</s>')[2]\n",
    "    optionb = input.split('</s>')[3]\n",
    "    optionc = input.split('</s>')[4]\n",
    "    optiond = input.split('</s>')[5]\n",
    "    options = optiona + '</s>' + optionb + '</s>' + optionc + '</s>' + optiond\n",
    "\n",
    "    encoded_train_context.append(tokenizer(context))\n",
    "    encoded_train_question.append(tokenizer(question))\n",
    "    encoded_train_optiona.append(tokenizer(optiona))\n",
    "    encoded_train_optionb.append(tokenizer(optionb))\n",
    "    encoded_train_optionc.append(tokenizer(optionc))\n",
    "    encoded_train_optiond.append(tokenizer(optiond))\n",
    "    encoded_train_options.append(tokenizer(options))\n",
    "\n",
    "print(len(encoded_train_context))"
   ]
  },
  {
   "cell_type": "code",
   "execution_count": null,
   "metadata": {},
   "outputs": [],
   "source": [
    "df_train_context = pd.DataFrame({'number_of_tokens': [len(instance['input_ids']) for instance in encoded_train_context]})\n",
    "df_train_question = pd.DataFrame({'number_of_tokens': [len(instance['input_ids']) for instance in encoded_train_question]})\n",
    "df_train_optiona = pd.DataFrame({'number_of_tokens': [len(instance['input_ids']) for instance in encoded_train_optiona]})\n",
    "df_train_optionb = pd.DataFrame({'number_of_tokens': [len(instance['input_ids']) for instance in encoded_train_optionb]})\n",
    "df_train_optionc = pd.DataFrame({'number_of_tokens': [len(instance['input_ids']) for instance in encoded_train_optionc]})\n",
    "df_train_optiond = pd.DataFrame({'number_of_tokens': [len(instance['input_ids']) for instance in encoded_train_optiond]})\n",
    "\n",
    "# Crea el primer boxplot\n",
    "trace1 = go.Box(\n",
    "    x=df_train_context['number_of_tokens'],\n",
    "    name='Train context',\n",
    "    boxpoints='all'\n",
    ")\n",
    "\n",
    "# Crea el segundo boxplot\n",
    "trace2 = go.Box(\n",
    "    x=df_train_question['number_of_tokens'],\n",
    "    name='Train question',\n",
    "    boxpoints='all'\n",
    ")\n",
    "\n",
    "# Crea el tercer boxplot\n",
    "trace3 = go.Box(\n",
    "    x=df_train_optiona['number_of_tokens'],\n",
    "    name='Train option A',\n",
    "    boxpoints='all'\n",
    ")\n",
    "\n",
    "# Crea el cuarto boxplot\n",
    "trace4 = go.Box(\n",
    "    x=df_train_optionb['number_of_tokens'],\n",
    "    name='Train option B',\n",
    "    boxpoints='all'\n",
    ")\n",
    "\n",
    "# Crea el quinto boxplot\n",
    "trace5 = go.Box(\n",
    "    x=df_train_optionc['number_of_tokens'],\n",
    "    name='Train option C',\n",
    "    boxpoints='all'\n",
    ")\n",
    "\n",
    "# Crea el sexto boxplot\n",
    "trace6 = go.Box(\n",
    "    x=df_train_optiond['number_of_tokens'],\n",
    "    name='Train option D',\n",
    "    boxpoints='all'\n",
    ")\n",
    "\n",
    "# Crea el séptimo boxplot\n",
    "trace7 = go.Box(\n",
    "    x=df_train_optiond['number_of_tokens'],\n",
    "    name='Train options',\n",
    "    boxpoints='all'\n",
    ")\n",
    "\n",
    "# Combina los boxplots en una sola figura\n",
    "data = [trace1, trace2, trace3, trace4, trace5, trace6]\n",
    "layout = go.Layout(\n",
    "    title=\"Distribution of the number of tokens in the input\", \n",
    "    xaxis_title=\"Number of tokens\", \n",
    "    yaxis_title=\"Split\", \n",
    "    xaxis=dict(type='log', autorange=True)\n",
    "    )\n",
    "\n",
    "fig = go.Figure(data=data, layout=layout)\n",
    "fig.show()\n",
    "fig.write_image(\"fig1.png\")"
   ]
  }
 ],
 "metadata": {
  "kernelspec": {
   "display_name": "Python 3 (ipykernel)",
   "language": "python",
   "name": "python3"
  },
  "language_info": {
   "codemirror_mode": {
    "name": "ipython",
    "version": 3
   },
   "file_extension": ".py",
   "mimetype": "text/x-python",
   "name": "python",
   "nbconvert_exporter": "python",
   "pygments_lexer": "ipython3",
   "version": "3.11.7"
  }
 },
 "nbformat": 4,
 "nbformat_minor": 2
}
